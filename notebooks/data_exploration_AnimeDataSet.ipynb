{
 "cells": [
  {
   "attachments": {},
   "cell_type": "markdown",
   "metadata": {},
   "source": [
    "### Imports and archives"
   ]
  },
  {
   "attachments": {},
   "cell_type": "markdown",
   "metadata": {},
   "source": [
    "#### Anime.csv\n",
    "\n",
    "* anime_id - myanimelist.net's unique id identifying an anime.\n",
    "* name - full name of anime.\n",
    "* genre - comma separated list of genres for this anime.\n",
    "* type - movie, TV, OVA, etc.\n",
    "* episodes - how many episodes in this show. (1 if movie).\n",
    "* rating - average rating out of 10 for this anime.\n",
    "* members - number of community members that are in this anime's \"group\".\n"
   ]
  },
  {
   "cell_type": "code",
   "execution_count": 5,
   "metadata": {},
   "outputs": [],
   "source": [
    "import findspark\n",
    "findspark.init()\n",
    "\n",
    "from pyspark.sql import SparkSession\n",
    "from pyspark.sql.functions import *\n",
    "import pyspark.sql.functions as F\n",
    "import matplotlib.pyplot as plt\n",
    "import pandas as pd\n",
    "\n",
    "spark = SparkSession.builder.appName('AnimeAnalysis').getOrCreate()\n",
    "\n",
    "spark.conf.set('spark.sql.repl.eagerEval.enabled', True)"
   ]
  },
  {
   "cell_type": "code",
   "execution_count": 6,
   "metadata": {},
   "outputs": [],
   "source": [
    "anime = spark.read.csv('../data/raw/anime.csv', header=True, inferSchema=True)"
   ]
  },
  {
   "attachments": {},
   "cell_type": "markdown",
   "metadata": {},
   "source": [
    "### Data set Anime"
   ]
  },
  {
   "cell_type": "code",
   "execution_count": 7,
   "metadata": {},
   "outputs": [
    {
     "name": "stdout",
     "output_type": "stream",
     "text": [
      "root\n",
      " |-- anime_id: integer (nullable = true)\n",
      " |-- name: string (nullable = true)\n",
      " |-- genre: string (nullable = true)\n",
      " |-- type: string (nullable = true)\n",
      " |-- episodes: string (nullable = true)\n",
      " |-- rating: double (nullable = true)\n",
      " |-- members: integer (nullable = true)\n",
      "\n",
      "+--------+--------------------+--------------------+-----+--------+------+-------+\n",
      "|anime_id|                name|               genre| type|episodes|rating|members|\n",
      "+--------+--------------------+--------------------+-----+--------+------+-------+\n",
      "|   32281|      Kimi no Na wa.|Drama, Romance, S...|Movie|       1|  9.37| 200630|\n",
      "|    5114|Fullmetal Alchemi...|Action, Adventure...|   TV|      64|  9.26| 793665|\n",
      "|   28977|            Gintama°|Action, Comedy, H...|   TV|      51|  9.25| 114262|\n",
      "|    9253|         Steins;Gate|    Sci-Fi, Thriller|   TV|      24|  9.17| 673572|\n",
      "|    9969|       Gintama&#039;|Action, Comedy, H...|   TV|      51|  9.16| 151266|\n",
      "+--------+--------------------+--------------------+-----+--------+------+-------+\n",
      "only showing top 5 rows\n",
      "\n",
      "El número de registros en el DataFrame ANIME es: 12294\n",
      "(12294, 7)\n"
     ]
    }
   ],
   "source": [
    "# Mostrar la estructura del DataFrame\n",
    "anime.printSchema()\n",
    "\n",
    "# Mostrar los primeros 5 registros\n",
    "anime.show(5)\n",
    "\n",
    "# Contar el número de registros en el DataFrame\n",
    "count = anime.count()\n",
    "print('El número de registros en el DataFrame ANIME es:', count)\n",
    "\n",
    "print((anime.count(), len(anime.columns)))\n",
    "\n"
   ]
  },
  {
   "attachments": {},
   "cell_type": "markdown",
   "metadata": {},
   "source": [
    "### Estadisticas"
   ]
  },
  {
   "cell_type": "code",
   "execution_count": 8,
   "metadata": {},
   "outputs": [
    {
     "name": "stdout",
     "output_type": "stream",
     "text": [
      "+-------+------------------+-----------------+-----------------+\n",
      "|summary|          episodes|           rating|          members|\n",
      "+-------+------------------+-----------------+-----------------+\n",
      "|  count|             12294|            12064|            12294|\n",
      "|   mean|12.382549774134182|6.473901690981445|18071.33886448674|\n",
      "| stddev| 46.86535196440979|1.026746306898068|54820.67692490701|\n",
      "|    min|                 1|             1.67|                5|\n",
      "|    max|           Unknown|             10.0|          1013917|\n",
      "+-------+------------------+-----------------+-----------------+\n",
      "\n"
     ]
    }
   ],
   "source": [
    "anime.select(\"episodes\", \"rating\", \"members\").describe().show()"
   ]
  },
  {
   "cell_type": "code",
   "execution_count": 9,
   "metadata": {},
   "outputs": [
    {
     "name": "stdout",
     "output_type": "stream",
     "text": [
      "+--------+----+-----+----+--------+------+-------+\n",
      "|anime_id|name|genre|type|episodes|rating|members|\n",
      "+--------+----+-----+----+--------+------+-------+\n",
      "|       0|   0|   62|  25|       0|   230|      0|\n",
      "+--------+----+-----+----+--------+------+-------+\n",
      "\n"
     ]
    }
   ],
   "source": [
    "null_counts = anime.select([F.count(F.when(F.isnan(c) | F.col(c).isNull(), c)).alias(c) for c in anime.columns])\n",
    "null_counts.show()"
   ]
  },
  {
   "cell_type": "code",
   "execution_count": 10,
   "metadata": {},
   "outputs": [
    {
     "name": "stdout",
     "output_type": "stream",
     "text": [
      "+-------+-----+\n",
      "|   type|count|\n",
      "+-------+-----+\n",
      "|     TV| 3787|\n",
      "|    OVA| 3311|\n",
      "|  Movie| 2348|\n",
      "|Special| 1676|\n",
      "|    ONA|  659|\n",
      "|  Music|  488|\n",
      "|   null|   25|\n",
      "+-------+-----+\n",
      "\n"
     ]
    }
   ],
   "source": [
    "anime.groupBy('type').count().orderBy('count', ascending=False).show()"
   ]
  },
  {
   "attachments": {},
   "cell_type": "markdown",
   "metadata": {},
   "source": [
    "### Terminar Spark Session"
   ]
  },
  {
   "cell_type": "code",
   "execution_count": null,
   "metadata": {},
   "outputs": [],
   "source": [
    "# Cerrar SparkSession\n",
    "spark.stop()"
   ]
  }
 ],
 "metadata": {
  "kernelspec": {
   "display_name": "Python 3.11.0 64-bit",
   "language": "python",
   "name": "python3"
  },
  "language_info": {
   "codemirror_mode": {
    "name": "ipython",
    "version": 3
   },
   "file_extension": ".py",
   "mimetype": "text/x-python",
   "name": "python",
   "nbconvert_exporter": "python",
   "pygments_lexer": "ipython3",
   "version": "3.11.0"
  },
  "orig_nbformat": 4,
  "vscode": {
   "interpreter": {
    "hash": "43daf46ee1a2bec30820ad54ca49c547678bba27ad881deae1888b1ba966de35"
   }
  }
 },
 "nbformat": 4,
 "nbformat_minor": 2
}
