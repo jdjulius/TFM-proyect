{
 "cells": [
  {
   "cell_type": "code",
   "execution_count": 4,
   "metadata": {},
   "outputs": [
    {
     "data": {
      "text/html": [
       "<div>\n",
       "<style scoped>\n",
       "    .dataframe tbody tr th:only-of-type {\n",
       "        vertical-align: middle;\n",
       "    }\n",
       "\n",
       "    .dataframe tbody tr th {\n",
       "        vertical-align: top;\n",
       "    }\n",
       "\n",
       "    .dataframe thead th {\n",
       "        text-align: right;\n",
       "    }\n",
       "</style>\n",
       "<table border=\"1\" class=\"dataframe\">\n",
       "  <thead>\n",
       "    <tr style=\"text-align: right;\">\n",
       "      <th></th>\n",
       "      <th>from</th>\n",
       "      <th>to</th>\n",
       "      <th>flightType</th>\n",
       "      <th>time</th>\n",
       "      <th>distance</th>\n",
       "      <th>agency</th>\n",
       "      <th>date_flight</th>\n",
       "    </tr>\n",
       "  </thead>\n",
       "  <tbody>\n",
       "    <tr>\n",
       "      <th>0</th>\n",
       "      <td>Recife (PE)</td>\n",
       "      <td>Florianopolis (SC)</td>\n",
       "      <td>firstClass</td>\n",
       "      <td>1.76</td>\n",
       "      <td>676.53</td>\n",
       "      <td>FlyingDrops</td>\n",
       "      <td>09/26/2019</td>\n",
       "    </tr>\n",
       "  </tbody>\n",
       "</table>\n",
       "</div>"
      ],
      "text/plain": [
       "          from                  to  flightType  time  distance       agency   \n",
       "0  Recife (PE)  Florianopolis (SC)  firstClass  1.76    676.53  FlyingDrops  \\\n",
       "\n",
       "  date_flight  \n",
       "0  09/26/2019  "
      ]
     },
     "execution_count": 4,
     "metadata": {},
     "output_type": "execute_result"
    }
   ],
   "source": [
    "import pandas as pd\n",
    "import json\n",
    "\n",
    "# El JSON como un string (puedes obtenerlo directamente de una solicitud o de un archivo)\n",
    "json_data = '''\n",
    "{\n",
    "  \"features\": {\n",
    "    \"from\": \"Recife (PE)\",\n",
    "    \"to\": \"Florianopolis (SC)\",\n",
    "    \"flightType\": \"firstClass\",\n",
    "    \"time\": 1.76,\n",
    "    \"distance\": 676.53,\n",
    "    \"agency\": \"FlyingDrops\",\n",
    "    \"date_flight\": \"09/26/2019\"\n",
    "  }\n",
    "}\n",
    "'''\n",
    "\n",
    "# Convertir el string JSON a un diccionario de Python\n",
    "data_dict = json.loads(json_data)\n",
    "\n",
    "# Extraer las características\n",
    "features = data_dict['features']\n",
    "\n",
    "# Convertir el diccionario de características a un DataFrame de pandas\n",
    "df = pd.DataFrame([features])\n",
    "\n",
    "df.head()\n",
    "\n",
    "#print(df)"
   ]
  },
  {
   "cell_type": "code",
   "execution_count": 5,
   "metadata": {},
   "outputs": [
    {
     "name": "stdout",
     "output_type": "stream",
     "text": [
      "<class 'numpy.ndarray'>\n"
     ]
    }
   ],
   "source": [
    "import joblib\n",
    "\n",
    "model = joblib.load('model.pkl')\n",
    "print(type(model))  # Debería mostrar el tipo del modelo, por ejemplo: <class 'sklearn.ensemble._forest.RandomForestClassifier'>"
   ]
  }
 ],
 "metadata": {
  "kernelspec": {
   "display_name": "Python 3",
   "language": "python",
   "name": "python3"
  },
  "language_info": {
   "codemirror_mode": {
    "name": "ipython",
    "version": 3
   },
   "file_extension": ".py",
   "mimetype": "text/x-python",
   "name": "python",
   "nbconvert_exporter": "python",
   "pygments_lexer": "ipython3",
   "version": "3.11.0"
  }
 },
 "nbformat": 4,
 "nbformat_minor": 2
}
