{
 "cells": [
  {
   "cell_type": "code",
   "execution_count": 2,
   "metadata": {},
   "outputs": [],
   "source": [
    "from sklearn.linear_model import LogisticRegression\n",
    "from sklearn.ensemble import RandomForestClassifier\n",
    "from sklearn.svm import SVC\n",
    "from sklearn.model_selection import train_test_split, cross_val_score\n",
    "from sklearn.metrics import accuracy_score, f1_score\n",
    "from sklearn.preprocessing import StandardScaler\n",
    "from sklearn.pipeline import Pipeline\n",
    "import pandas as pd\n",
    "import numpy as np\n",
    "import pandas as pd\n",
    "from sklearn.model_selection import train_test_split\n",
    "from sklearn.linear_model import LogisticRegression\n",
    "from sklearn.metrics import accuracy_score, confusion_matrix, classification_report\n",
    "import pandas as pd\n",
    "from sklearn.model_selection import train_test_split\n",
    "from sklearn.linear_model import LinearRegression, Ridge, Lasso\n",
    "from sklearn.tree import DecisionTreeRegressor\n",
    "from sklearn.ensemble import RandomForestRegressor, GradientBoostingRegressor\n",
    "from sklearn.svm import SVR\n",
    "from sklearn.preprocessing import StandardScaler\n",
    "from sklearn.metrics import mean_squared_error, r2_score\n",
    "import numpy as np"
   ]
  },
  {
   "cell_type": "code",
   "execution_count": 3,
   "metadata": {},
   "outputs": [],
   "source": [
    "# Cargar los archivos CSV\n",
    "df = pd.read_csv('../data/result/combined_data.csv')\n"
   ]
  },
  {
   "cell_type": "code",
   "execution_count": 12,
   "metadata": {},
   "outputs": [
    {
     "name": "stdout",
     "output_type": "stream",
     "text": [
      "<class 'pandas.core.frame.DataFrame'>\n",
      "RangeIndex: 81104 entries, 0 to 81103\n",
      "Data columns (total 22 columns):\n",
      " #   Column           Non-Null Count  Dtype  \n",
      "---  ------           --------------  -----  \n",
      " 0   travelCode       81104 non-null  int64  \n",
      " 1   userCode_flight  81104 non-null  int64  \n",
      " 2   from             81104 non-null  object \n",
      " 3   to               81104 non-null  object \n",
      " 4   flightType       81104 non-null  object \n",
      " 5   price_flight     81104 non-null  float64\n",
      " 6   time             81104 non-null  float64\n",
      " 7   distance         81104 non-null  float64\n",
      " 8   agency           81104 non-null  object \n",
      " 9   date_flight      81104 non-null  object \n",
      " 10  userCode_hotel   81104 non-null  int64  \n",
      " 11  name_x           81104 non-null  object \n",
      " 12  place            81104 non-null  object \n",
      " 13  days             81104 non-null  int64  \n",
      " 14  price_hotel      81104 non-null  float64\n",
      " 15  total            81104 non-null  float64\n",
      " 16  date_hotel       81104 non-null  object \n",
      " 17  code             81104 non-null  int64  \n",
      " 18  company          81104 non-null  object \n",
      " 19  name_y           81104 non-null  object \n",
      " 20  gender           81104 non-null  object \n",
      " 21  age              81104 non-null  int64  \n",
      "dtypes: float64(5), int64(6), object(11)\n",
      "memory usage: 13.6+ MB\n"
     ]
    },
    {
     "data": {
      "text/html": [
       "<div>\n",
       "<style scoped>\n",
       "    .dataframe tbody tr th:only-of-type {\n",
       "        vertical-align: middle;\n",
       "    }\n",
       "\n",
       "    .dataframe tbody tr th {\n",
       "        vertical-align: top;\n",
       "    }\n",
       "\n",
       "    .dataframe thead th {\n",
       "        text-align: right;\n",
       "    }\n",
       "</style>\n",
       "<table border=\"1\" class=\"dataframe\">\n",
       "  <thead>\n",
       "    <tr style=\"text-align: right;\">\n",
       "      <th></th>\n",
       "      <th>travelCode</th>\n",
       "      <th>userCode_flight</th>\n",
       "      <th>price_flight</th>\n",
       "      <th>time</th>\n",
       "      <th>distance</th>\n",
       "      <th>userCode_hotel</th>\n",
       "      <th>days</th>\n",
       "      <th>price_hotel</th>\n",
       "      <th>total</th>\n",
       "      <th>code</th>\n",
       "      <th>age</th>\n",
       "    </tr>\n",
       "  </thead>\n",
       "  <tbody>\n",
       "    <tr>\n",
       "      <th>count</th>\n",
       "      <td>81104.000000</td>\n",
       "      <td>81104.000000</td>\n",
       "      <td>81104.000000</td>\n",
       "      <td>81104.000000</td>\n",
       "      <td>81104.000000</td>\n",
       "      <td>81104.000000</td>\n",
       "      <td>81104.000000</td>\n",
       "      <td>81104.000000</td>\n",
       "      <td>81104.000000</td>\n",
       "      <td>81104.000000</td>\n",
       "      <td>81104.000000</td>\n",
       "    </tr>\n",
       "    <tr>\n",
       "      <th>mean</th>\n",
       "      <td>67911.794461</td>\n",
       "      <td>666.963726</td>\n",
       "      <td>957.725281</td>\n",
       "      <td>1.424116</td>\n",
       "      <td>548.097771</td>\n",
       "      <td>666.963726</td>\n",
       "      <td>2.499679</td>\n",
       "      <td>214.439554</td>\n",
       "      <td>536.229513</td>\n",
       "      <td>666.963726</td>\n",
       "      <td>42.790615</td>\n",
       "    </tr>\n",
       "    <tr>\n",
       "      <th>std</th>\n",
       "      <td>39407.956381</td>\n",
       "      <td>391.134383</td>\n",
       "      <td>362.212893</td>\n",
       "      <td>0.543071</td>\n",
       "      <td>209.053667</td>\n",
       "      <td>391.134383</td>\n",
       "      <td>1.119319</td>\n",
       "      <td>76.741832</td>\n",
       "      <td>319.329514</td>\n",
       "      <td>391.134383</td>\n",
       "      <td>12.942576</td>\n",
       "    </tr>\n",
       "    <tr>\n",
       "      <th>min</th>\n",
       "      <td>0.000000</td>\n",
       "      <td>0.000000</td>\n",
       "      <td>301.510000</td>\n",
       "      <td>0.440000</td>\n",
       "      <td>168.220000</td>\n",
       "      <td>0.000000</td>\n",
       "      <td>1.000000</td>\n",
       "      <td>60.390000</td>\n",
       "      <td>60.390000</td>\n",
       "      <td>0.000000</td>\n",
       "      <td>21.000000</td>\n",
       "    </tr>\n",
       "    <tr>\n",
       "      <th>25%</th>\n",
       "      <td>33696.750000</td>\n",
       "      <td>323.000000</td>\n",
       "      <td>672.660000</td>\n",
       "      <td>1.040000</td>\n",
       "      <td>401.660000</td>\n",
       "      <td>323.000000</td>\n",
       "      <td>1.000000</td>\n",
       "      <td>165.990000</td>\n",
       "      <td>247.620000</td>\n",
       "      <td>323.000000</td>\n",
       "      <td>32.000000</td>\n",
       "    </tr>\n",
       "    <tr>\n",
       "      <th>50%</th>\n",
       "      <td>67831.000000</td>\n",
       "      <td>658.000000</td>\n",
       "      <td>899.600000</td>\n",
       "      <td>1.460000</td>\n",
       "      <td>562.140000</td>\n",
       "      <td>658.000000</td>\n",
       "      <td>2.000000</td>\n",
       "      <td>242.880000</td>\n",
       "      <td>495.240000</td>\n",
       "      <td>658.000000</td>\n",
       "      <td>42.000000</td>\n",
       "    </tr>\n",
       "    <tr>\n",
       "      <th>75%</th>\n",
       "      <td>102211.250000</td>\n",
       "      <td>1013.000000</td>\n",
       "      <td>1222.240000</td>\n",
       "      <td>1.760000</td>\n",
       "      <td>676.530000</td>\n",
       "      <td>1013.000000</td>\n",
       "      <td>4.000000</td>\n",
       "      <td>263.410000</td>\n",
       "      <td>742.860000</td>\n",
       "      <td>1013.000000</td>\n",
       "      <td>54.000000</td>\n",
       "    </tr>\n",
       "    <tr>\n",
       "      <th>max</th>\n",
       "      <td>135942.000000</td>\n",
       "      <td>1339.000000</td>\n",
       "      <td>1754.170000</td>\n",
       "      <td>2.440000</td>\n",
       "      <td>937.770000</td>\n",
       "      <td>1339.000000</td>\n",
       "      <td>4.000000</td>\n",
       "      <td>313.020000</td>\n",
       "      <td>1252.080000</td>\n",
       "      <td>1339.000000</td>\n",
       "      <td>65.000000</td>\n",
       "    </tr>\n",
       "  </tbody>\n",
       "</table>\n",
       "</div>"
      ],
      "text/plain": [
       "          travelCode  userCode_flight  price_flight          time   \n",
       "count   81104.000000     81104.000000  81104.000000  81104.000000  \\\n",
       "mean    67911.794461       666.963726    957.725281      1.424116   \n",
       "std     39407.956381       391.134383    362.212893      0.543071   \n",
       "min         0.000000         0.000000    301.510000      0.440000   \n",
       "25%     33696.750000       323.000000    672.660000      1.040000   \n",
       "50%     67831.000000       658.000000    899.600000      1.460000   \n",
       "75%    102211.250000      1013.000000   1222.240000      1.760000   \n",
       "max    135942.000000      1339.000000   1754.170000      2.440000   \n",
       "\n",
       "           distance  userCode_hotel          days   price_hotel         total   \n",
       "count  81104.000000    81104.000000  81104.000000  81104.000000  81104.000000  \\\n",
       "mean     548.097771      666.963726      2.499679    214.439554    536.229513   \n",
       "std      209.053667      391.134383      1.119319     76.741832    319.329514   \n",
       "min      168.220000        0.000000      1.000000     60.390000     60.390000   \n",
       "25%      401.660000      323.000000      1.000000    165.990000    247.620000   \n",
       "50%      562.140000      658.000000      2.000000    242.880000    495.240000   \n",
       "75%      676.530000     1013.000000      4.000000    263.410000    742.860000   \n",
       "max      937.770000     1339.000000      4.000000    313.020000   1252.080000   \n",
       "\n",
       "               code           age  \n",
       "count  81104.000000  81104.000000  \n",
       "mean     666.963726     42.790615  \n",
       "std      391.134383     12.942576  \n",
       "min        0.000000     21.000000  \n",
       "25%      323.000000     32.000000  \n",
       "50%      658.000000     42.000000  \n",
       "75%     1013.000000     54.000000  \n",
       "max     1339.000000     65.000000  "
      ]
     },
     "execution_count": 12,
     "metadata": {},
     "output_type": "execute_result"
    }
   ],
   "source": [
    "df.head()\n",
    "df.info()\n",
    "df.describe()"
   ]
  },
  {
   "cell_type": "code",
   "execution_count": 17,
   "metadata": {},
   "outputs": [],
   "source": [
    "# Definir las características (X) y la variable objetivo (Y)\n",
    "features = ['from', 'to', 'flightType', 'time', 'distance', 'agency', 'date_flight']\n",
    "X = df[features]\n",
    "Y = df['price_flight']"
   ]
  },
  {
   "cell_type": "code",
   "execution_count": 18,
   "metadata": {},
   "outputs": [],
   "source": [
    "X = pd.get_dummies(X, columns=['from', 'to', 'flightType', 'agency', 'date_flight'])\n"
   ]
  },
  {
   "cell_type": "code",
   "execution_count": 19,
   "metadata": {},
   "outputs": [],
   "source": [
    "# Escalar las características numéricas\n",
    "scaler = StandardScaler()\n",
    "X_scaled = scaler.fit_transform(X)"
   ]
  },
  {
   "cell_type": "code",
   "execution_count": null,
   "metadata": {},
   "outputs": [],
   "source": []
  },
  {
   "cell_type": "code",
   "execution_count": 25,
   "metadata": {},
   "outputs": [],
   "source": [
    "# Preparación de los datos (supongamos que X y y ya están definidos)\n",
    "X_train, X_test, Y_train, Y_test = train_test_split(X, Y, test_size=0.2, random_state=42)\n"
   ]
  },
  {
   "cell_type": "code",
   "execution_count": 26,
   "metadata": {},
   "outputs": [
    {
     "name": "stdout",
     "output_type": "stream",
     "text": [
      "Linear Regression:\n",
      "RMSE: 103.31619920167626\n",
      "R^2: 0.9191762685931422\n"
     ]
    }
   ],
   "source": [
    "# Regresión Lineal\n",
    "model_lr = LinearRegression()\n",
    "model_lr.fit(X_train, Y_train)\n",
    "Y_pred_lr = model_lr.predict(X_test)\n",
    "print('Linear Regression:')\n",
    "print('RMSE:', np.sqrt(mean_squared_error(Y_test, Y_pred_lr)))\n",
    "print('R^2:', r2_score(Y_test, Y_pred_lr))\n"
   ]
  },
  {
   "cell_type": "code",
   "execution_count": 27,
   "metadata": {},
   "outputs": [
    {
     "name": "stdout",
     "output_type": "stream",
     "text": [
      "Ridge Regression:\n",
      "RMSE: 103.26138626802373\n",
      "R^2: 0.9192620055961576\n"
     ]
    }
   ],
   "source": [
    "# Regresión Ridge\n",
    "model_ridge = Ridge(alpha=1.0)\n",
    "model_ridge.fit(X_train, Y_train)\n",
    "Y_pred_ridge = model_ridge.predict(X_test)\n",
    "print('Ridge Regression:')\n",
    "print('RMSE:', np.sqrt(mean_squared_error(Y_test, Y_pred_ridge)))\n",
    "print('R^2:', r2_score(Y_test, Y_pred_ridge))\n"
   ]
  },
  {
   "cell_type": "code",
   "execution_count": 29,
   "metadata": {},
   "outputs": [
    {
     "name": "stdout",
     "output_type": "stream",
     "text": [
      "Lasso Regression:\n",
      "RMSE: 102.63768995703975\n",
      "R^2: 0.9202343712905006\n"
     ]
    },
    {
     "name": "stderr",
     "output_type": "stream",
     "text": [
      "c:\\Users\\Julio\\AppData\\Local\\Programs\\Python\\Python311\\Lib\\site-packages\\sklearn\\linear_model\\_coordinate_descent.py:697: ConvergenceWarning: Objective did not converge. You might want to increase the number of iterations, check the scale of the features or consider increasing regularisation. Duality gap: 1.408e+06, tolerance: 8.498e+05\n",
      "  model = cd_fast.enet_coordinate_descent(\n"
     ]
    }
   ],
   "source": [
    "# Regresión Lasso\n",
    "model_lasso = Lasso(alpha=0.1)\n",
    "model_lasso.fit(X_train, Y_train)\n",
    "Y_pred_lasso = model_lasso.predict(X_test)\n",
    "print('Lasso Regression:')\n",
    "print('RMSE:', np.sqrt(mean_squared_error(Y_test, Y_pred_lasso)))\n",
    "print('R^2:', r2_score(Y_test, Y_pred_lasso))\n"
   ]
  },
  {
   "cell_type": "code",
   "execution_count": 30,
   "metadata": {},
   "outputs": [
    {
     "name": "stdout",
     "output_type": "stream",
     "text": [
      "Decision Tree Regression:\n",
      "RMSE: 0.5091786704478697\n",
      "R^2: 0.9999980368998319\n"
     ]
    }
   ],
   "source": [
    "# Árbol de Decisión\n",
    "model_tree = DecisionTreeRegressor()\n",
    "model_tree.fit(X_train, Y_train)\n",
    "Y_pred_tree = model_tree.predict(X_test)\n",
    "print('Decision Tree Regression:')\n",
    "print('RMSE:', np.sqrt(mean_squared_error(Y_test, Y_pred_tree)))\n",
    "print('R^2:', r2_score(Y_test, Y_pred_tree))\n"
   ]
  },
  {
   "cell_type": "code",
   "execution_count": 31,
   "metadata": {},
   "outputs": [
    {
     "name": "stdout",
     "output_type": "stream",
     "text": [
      "Random Forest Regression:\n",
      "RMSE: 0.19622397480429657\n",
      "R^2: 0.9999997084546008\n"
     ]
    }
   ],
   "source": [
    "# Random Forest\n",
    "model_rf = RandomForestRegressor(n_estimators=100)\n",
    "model_rf.fit(X_train, Y_train)\n",
    "Y_pred_rf = model_rf.predict(X_test)\n",
    "print('Random Forest Regression:')\n",
    "print('RMSE:', np.sqrt(mean_squared_error(Y_test, Y_pred_rf)))\n",
    "print('R^2:', r2_score(Y_test, Y_pred_rf))\n"
   ]
  },
  {
   "cell_type": "code",
   "execution_count": 32,
   "metadata": {},
   "outputs": [
    {
     "name": "stdout",
     "output_type": "stream",
     "text": [
      "Gradient Boosting Regression:\n",
      "RMSE: 39.83840343455877\n",
      "R^2: 0.9879827276052375\n"
     ]
    }
   ],
   "source": [
    "# Gradient Boosting\n",
    "model_gb = GradientBoostingRegressor(n_estimators=100)\n",
    "model_gb.fit(X_train, Y_train)\n",
    "Y_pred_gb = model_gb.predict(X_test)\n",
    "print('Gradient Boosting Regression:')\n",
    "print('RMSE:', np.sqrt(mean_squared_error(Y_test, Y_pred_gb)))\n",
    "print('R^2:', r2_score(Y_test, Y_pred_gb))\n"
   ]
  },
  {
   "cell_type": "code",
   "execution_count": 33,
   "metadata": {},
   "outputs": [],
   "source": [
    "# Support Vector Regression\n",
    "model_svr = SVR(kernel='rbf')\n",
    "model_svr.fit(X_train, Y_train)\n",
    "Y_pred_svr = model_svr.predict(X_test)\n",
    "print('Support Vector Regression:')\n",
    "print('RMSE:', np.sqrt(mean_squared_error(Y_test, Y_pred_svr)))\n",
    "print('R^2:', r2_score(Y_test, Y_pred_svr))\n"
   ]
  },
  {
   "cell_type": "code",
   "execution_count": 1,
   "metadata": {},
   "outputs": [
    {
     "ename": "NameError",
     "evalue": "name 'np' is not defined",
     "output_type": "error",
     "traceback": [
      "\u001b[1;31m---------------------------------------------------------------------------\u001b[0m",
      "\u001b[1;31mNameError\u001b[0m                                 Traceback (most recent call last)",
      "Cell \u001b[1;32mIn[1], line 1\u001b[0m\n\u001b[1;32m----> 1\u001b[0m \u001b[38;5;28mprint\u001b[39m(\u001b[38;5;124m'\u001b[39m\u001b[38;5;124mLinear Regression RMSE:\u001b[39m\u001b[38;5;124m'\u001b[39m, \u001b[43mnp\u001b[49m\u001b[38;5;241m.\u001b[39msqrt(mean_squared_error(Y_test, Y_pred_lr)), \u001b[38;5;124m'\u001b[39m\u001b[38;5;124mR²:\u001b[39m\u001b[38;5;124m'\u001b[39m, r2_score(Y_test, Y_pred_lr))\n\u001b[0;32m      2\u001b[0m \u001b[38;5;28mprint\u001b[39m(\u001b[38;5;124m'\u001b[39m\u001b[38;5;124mRidge Regression RMSE:\u001b[39m\u001b[38;5;124m'\u001b[39m, np\u001b[38;5;241m.\u001b[39msqrt(mean_squared_error(Y_test, Y_pred_ridge)), \u001b[38;5;124m'\u001b[39m\u001b[38;5;124mR²:\u001b[39m\u001b[38;5;124m'\u001b[39m, r2_score(Y_test, Y_pred_ridge))\n\u001b[0;32m      3\u001b[0m \u001b[38;5;66;03m#print('Lasso Regression RMSE:', np.sqrt(mean_squared_error(Y_test, Y_pred_lasso)), 'R²:', r2_score(Y_test, Y_pred_lasso))\u001b[39;00m\n",
      "\u001b[1;31mNameError\u001b[0m: name 'np' is not defined"
     ]
    }
   ],
   "source": [
    "print('Linear Regression RMSE:', np.sqrt(mean_squared_error(Y_test, Y_pred_lr)), 'R²:', r2_score(Y_test, Y_pred_lr))\n",
    "print('Ridge Regression RMSE:', np.sqrt(mean_squared_error(Y_test, Y_pred_ridge)), 'R²:', r2_score(Y_test, Y_pred_ridge))\n",
    "#print('Lasso Regression RMSE:', np.sqrt(mean_squared_error(Y_test, Y_pred_lasso)), 'R²:', r2_score(Y_test, Y_pred_lasso))\n",
    "print('Decision Tree RMSE:', np.sqrt(mean_squared_error(Y_test, Y_pred_tree)), 'R²:', r2_score(Y_test, Y_pred_tree))\n",
    "print('Random Forest RMSE:', np.sqrt(mean_squared_error(Y_test, Y_pred_rf)), 'R²:', r2_score(Y_test, Y_pred_rf))\n",
    "print('Gradient Boosting RMSE:', np.sqrt(mean_squared_error(Y_test, Y_pred_gb)), 'R²:', r2_score(Y_test, Y_pred_gb))\n",
    "#print('Support Vector RMSE:', np.sqrt(mean_squared_error(Y_test, Y_pred_svr)), 'R²:', r2_score(Y_test, Y_pred_svr))\n"
   ]
  }
 ],
 "metadata": {
  "kernelspec": {
   "display_name": "Python 3",
   "language": "python",
   "name": "python3"
  },
  "language_info": {
   "codemirror_mode": {
    "name": "ipython",
    "version": 3
   },
   "file_extension": ".py",
   "mimetype": "text/x-python",
   "name": "python",
   "nbconvert_exporter": "python",
   "pygments_lexer": "ipython3",
   "version": "3.11.0"
  }
 },
 "nbformat": 4,
 "nbformat_minor": 2
}
